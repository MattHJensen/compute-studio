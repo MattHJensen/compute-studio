{
 "cells": [
  {
   "cell_type": "code",
   "execution_count": 1,
   "metadata": {},
   "outputs": [],
   "source": [
    "from io import StringIO\n",
    "import time\n",
    "\n",
    "import requests\n",
    "import pandas as pd\n"
   ]
  },
  {
   "cell_type": "code",
   "execution_count": 2,
   "metadata": {},
   "outputs": [],
   "source": [
    "class APIException(Exception):\n",
    "    pass\n",
    "\n",
    "class API:\n",
    "    def __init__(self, owner, title, user, pw, base_url=\"http://127.0.0.1:8000\"):\n",
    "        self.owner = owner\n",
    "        self.title = title\n",
    "        self.auth = (user, pw)\n",
    "        self.base_url = f\"{base_url}/{owner}/{title}/api/v1\"\n",
    "        \n",
    "    def create(self, adjustment: dict = None, meta_parameters: dict = None):\n",
    "        adjustment = adjustment or {}\n",
    "        meta_parameters = meta_parameters or {}\n",
    "        resp = requests.post(\n",
    "            f\"{self.base_url}/\",\n",
    "            json={\n",
    "                \"model_parameters\": adjustment, \n",
    "                \"meta_parameters\": meta_parameters\n",
    "            },\n",
    "            auth=self.auth\n",
    "        )\n",
    "        if resp.status_code == 201:\n",
    "            return resp.json()\n",
    "        raise APIException(resp.text)\n",
    "    \n",
    "    def detail(self, model_pk):\n",
    "        while True:\n",
    "            resp = requests.get(f\"{self.base_url}/{model_pk}\")\n",
    "            if resp.status_code == 202:\n",
    "                pass\n",
    "            elif resp.status_code == 200:\n",
    "                return resp.json()\n",
    "            else:\n",
    "                raise APIException(resp.text)\n",
    "            time.sleep(1)\n",
    "    \n",
    "    def results(self, model_pk):\n",
    "        result = self.detail(model_pk)\n",
    "        res = {}\n",
    "        for output in result[\"outputs\"][\"downloadable\"]:\n",
    "            if output[\"media_type\"] == \"CSV\":\n",
    "                res[output[\"title\"]] = pd.read_csv(\n",
    "                    StringIO(output[\"data\"])\n",
    "                )\n",
    "            else:\n",
    "                print(f'{output[\"media_type\"]} not implemented yet')\n",
    "        return res\n",
    "    "
   ]
  },
  {
   "cell_type": "code",
   "execution_count": 3,
   "metadata": {},
   "outputs": [],
   "source": [
    "api = API(\"hdoupe\", \"Matchups\", \"hdoupe\", \"heyhey2222\")"
   ]
  },
  {
   "cell_type": "code",
   "execution_count": 4,
   "metadata": {},
   "outputs": [],
   "source": [
    "res = api.create(\n",
    "    adjustment={\n",
    "        \"matchup\": {\n",
    "            \"pitcher\": \"Max Scherzer\"\n",
    "        }\n",
    "    }\n",
    ")"
   ]
  },
  {
   "cell_type": "code",
   "execution_count": 5,
   "metadata": {
    "scrolled": true
   },
   "outputs": [
    {
     "data": {
      "text/plain": [
       "{'inputs': {'meta_parameters': {'use_full_data': True},\n",
       "  'model_parameters': {'matchup': {'pitcher': 'Max Scherzer'}},\n",
       "  'inputs_file': None,\n",
       "  'errors_warnings': {'matchup': {'errors': {}, 'warnings': {}},\n",
       "   'GUI': {'errors': {}, 'warnings': {}},\n",
       "   'API': {'errors': {}, 'warnings': {}}}},\n",
       " 'outputs': None,\n",
       " 'traceback': None,\n",
       " 'creation_date': '2019-05-21T17:11:38.321621-05:00',\n",
       " 'api_url': '/hdoupe/Matchups/api/v1/83',\n",
       " 'gui_url': '/hdoupe/Matchups/83/',\n",
       " 'eta': 9.91,\n",
       " 'model_pk': 83}"
      ]
     },
     "execution_count": 5,
     "metadata": {},
     "output_type": "execute_result"
    }
   ],
   "source": [
    "res"
   ]
  },
  {
   "cell_type": "code",
   "execution_count": 6,
   "metadata": {},
   "outputs": [],
   "source": [
    "result = api.results(res[\"model_pk\"])"
   ]
  },
  {
   "cell_type": "code",
   "execution_count": 7,
   "metadata": {},
   "outputs": [
    {
     "data": {
      "text/plain": [
       "dict_keys(['Max Scherzer v. All batters', 'Max Scherzer v. Chipper Jones', 'Max Scherzer v. David Ortiz'])"
      ]
     },
     "execution_count": 7,
     "metadata": {},
     "output_type": "execute_result"
    }
   ],
   "source": [
    "result.keys()"
   ]
  },
  {
   "cell_type": "code",
   "execution_count": 8,
   "metadata": {},
   "outputs": [
    {
     "data": {
      "text/plain": [
       "94.21551601423516"
      ]
     },
     "execution_count": 8,
     "metadata": {},
     "output_type": "execute_result"
    }
   ],
   "source": [
    "all_df = result[\"Max Scherzer v. All batters\"]\n",
    "all_df.loc[all_df.pitch_type == \"FF\", \"release_speed\"].mean()"
   ]
  },
  {
   "cell_type": "code",
   "execution_count": null,
   "metadata": {},
   "outputs": [],
   "source": []
  }
 ],
 "metadata": {
  "kernelspec": {
   "display_name": "Python 3",
   "language": "python",
   "name": "python3"
  },
  "language_info": {
   "codemirror_mode": {
    "name": "ipython",
    "version": 3
   },
   "file_extension": ".py",
   "mimetype": "text/x-python",
   "name": "python",
   "nbconvert_exporter": "python",
   "pygments_lexer": "ipython3",
   "version": "3.7.3"
  }
 },
 "nbformat": 4,
 "nbformat_minor": 2
}
